{
 "cells": [
  {
   "cell_type": "markdown",
   "id": "f3178de2",
   "metadata": {
    "papermill": {
     "duration": 0.018171,
     "end_time": "2021-11-20T15:23:09.374284",
     "exception": false,
     "start_time": "2021-11-20T15:23:09.356113",
     "status": "completed"
    },
    "tags": []
   },
   "source": [
    "# Music recommender system\n",
    "\n",
    "One of the most used machine learning algorithms is recommendation systems. A **recommender** (or recommendation) **system** (or engine) is a filtering system which aim is to predict a rating or preference a user would give to an item, eg. a film, a product, a song, etc.\n",
    "  \n",
    "> Content-based filters predicts what a user likes based on what that particular user has liked in the past. On the other hand, collaborative-based filters predict what a user like based on what other users, that are similar to that particular user, have liked.\n",
    "\n",
    "By:\n",
    "### RA1911003010260\tAshish Kashyap\n",
    "### RA1911003010266\tPrakhar Singh\n",
    "### RA1911003010264\tAkshat Saxena\n",
    "### RA1911003010257\tAaryan Singhal\n",
    "### RA1911003010276\tShivansh Sinha\n",
    "### RA1911003010280\tAnsh Thapliyal"
   ]
  },
  {
   "cell_type": "markdown",
   "id": "44f3df03",
   "metadata": {
    "papermill": {
     "duration": 0.014722,
     "end_time": "2021-11-20T15:23:09.404854",
     "exception": false,
     "start_time": "2021-11-20T15:23:09.390132",
     "status": "completed"
    },
    "tags": []
   },
   "source": [
    "### Importing required libraries\n",
    "\n",
    "First, we'll import all the required libraries."
   ]
  },
  {
   "cell_type": "code",
   "execution_count": 1,
   "id": "a0303676",
   "metadata": {
    "execution": {
     "iopub.execute_input": "2021-11-20T15:23:09.442147Z",
     "iopub.status.busy": "2021-11-20T15:23:09.439217Z",
     "iopub.status.idle": "2021-11-20T15:23:09.448774Z",
     "shell.execute_reply": "2021-11-20T15:23:09.449250Z",
     "shell.execute_reply.started": "2021-11-20T15:19:04.532369Z"
    },
    "papermill": {
     "duration": 0.029797,
     "end_time": "2021-11-20T15:23:09.449544",
     "exception": false,
     "start_time": "2021-11-20T15:23:09.419747",
     "status": "completed"
    },
    "tags": []
   },
   "outputs": [],
   "source": [
    "import numpy as np\n",
    "import pandas as pd"
   ]
  },
  {
   "cell_type": "code",
   "execution_count": 2,
   "id": "fe238945",
   "metadata": {
    "execution": {
     "iopub.execute_input": "2021-11-20T15:23:09.483125Z",
     "iopub.status.busy": "2021-11-20T15:23:09.482509Z",
     "iopub.status.idle": "2021-11-20T15:23:09.485474Z",
     "shell.execute_reply": "2021-11-20T15:23:09.485933Z",
     "shell.execute_reply.started": "2021-11-20T15:19:04.540585Z"
    },
    "papermill": {
     "duration": 0.021088,
     "end_time": "2021-11-20T15:23:09.486114",
     "exception": false,
     "start_time": "2021-11-20T15:23:09.465026",
     "status": "completed"
    },
    "tags": []
   },
   "outputs": [],
   "source": [
    "from typing import List, Dict"
   ]
  },
  {
   "cell_type": "code",
   "execution_count": 3,
   "id": "c5031376",
   "metadata": {
    "execution": {
     "iopub.execute_input": "2021-11-20T15:23:09.520074Z",
     "iopub.status.busy": "2021-11-20T15:23:09.519496Z",
     "iopub.status.idle": "2021-11-20T15:23:10.429645Z",
     "shell.execute_reply": "2021-11-20T15:23:10.430125Z",
     "shell.execute_reply.started": "2021-11-20T15:19:04.552274Z"
    },
    "papermill": {
     "duration": 0.928809,
     "end_time": "2021-11-20T15:23:10.430303",
     "exception": false,
     "start_time": "2021-11-20T15:23:09.501494",
     "status": "completed"
    },
    "tags": []
   },
   "outputs": [],
   "source": [
    "from sklearn.feature_extraction.text import TfidfVectorizer\n",
    "from sklearn.metrics.pairwise import cosine_similarity"
   ]
  },
  {
   "cell_type": "markdown",
   "id": "4de9287a",
   "metadata": {
    "papermill": {
     "duration": 0.015023,
     "end_time": "2021-11-20T15:23:10.460759",
     "exception": false,
     "start_time": "2021-11-20T15:23:10.445736",
     "status": "completed"
    },
    "tags": []
   },
   "source": [
    "### Dataset"
   ]
  },
  {
   "cell_type": "code",
   "execution_count": 4,
   "id": "2490f386",
   "metadata": {
    "execution": {
     "iopub.execute_input": "2021-11-20T15:23:10.494663Z",
     "iopub.status.busy": "2021-11-20T15:23:10.494056Z",
     "iopub.status.idle": "2021-11-20T15:23:12.082106Z",
     "shell.execute_reply": "2021-11-20T15:23:12.082660Z",
     "shell.execute_reply.started": "2021-11-20T15:19:04.566336Z"
    },
    "papermill": {
     "duration": 1.606868,
     "end_time": "2021-11-20T15:23:12.082855",
     "exception": false,
     "start_time": "2021-11-20T15:23:10.475987",
     "status": "completed"
    },
    "tags": []
   },
   "outputs": [],
   "source": [
    "songs = pd.read_csv('../input/datasong/songdata.csv')"
   ]
  },
  {
   "cell_type": "code",
   "execution_count": 5,
   "id": "286fa220",
   "metadata": {
    "execution": {
     "iopub.execute_input": "2021-11-20T15:23:12.117737Z",
     "iopub.status.busy": "2021-11-20T15:23:12.116793Z",
     "iopub.status.idle": "2021-11-20T15:23:12.135671Z",
     "shell.execute_reply": "2021-11-20T15:23:12.136154Z",
     "shell.execute_reply.started": "2021-11-20T15:19:05.450000Z"
    },
    "papermill": {
     "duration": 0.037986,
     "end_time": "2021-11-20T15:23:12.136320",
     "exception": false,
     "start_time": "2021-11-20T15:23:12.098334",
     "status": "completed"
    },
    "tags": []
   },
   "outputs": [
    {
     "data": {
      "text/html": [
       "<div>\n",
       "<style scoped>\n",
       "    .dataframe tbody tr th:only-of-type {\n",
       "        vertical-align: middle;\n",
       "    }\n",
       "\n",
       "    .dataframe tbody tr th {\n",
       "        vertical-align: top;\n",
       "    }\n",
       "\n",
       "    .dataframe thead th {\n",
       "        text-align: right;\n",
       "    }\n",
       "</style>\n",
       "<table border=\"1\" class=\"dataframe\">\n",
       "  <thead>\n",
       "    <tr style=\"text-align: right;\">\n",
       "      <th></th>\n",
       "      <th>artist</th>\n",
       "      <th>song</th>\n",
       "      <th>link</th>\n",
       "      <th>text</th>\n",
       "    </tr>\n",
       "  </thead>\n",
       "  <tbody>\n",
       "    <tr>\n",
       "      <th>0</th>\n",
       "      <td>ABBA</td>\n",
       "      <td>Ahe's My Kind Of Girl</td>\n",
       "      <td>/a/abba/ahes+my+kind+of+girl_20598417.html</td>\n",
       "      <td>Look at her face, it's a wonderful face  \\nAnd...</td>\n",
       "    </tr>\n",
       "    <tr>\n",
       "      <th>1</th>\n",
       "      <td>ABBA</td>\n",
       "      <td>Andante, Andante</td>\n",
       "      <td>/a/abba/andante+andante_20002708.html</td>\n",
       "      <td>Take it easy with me, please  \\nTouch me gentl...</td>\n",
       "    </tr>\n",
       "    <tr>\n",
       "      <th>2</th>\n",
       "      <td>ABBA</td>\n",
       "      <td>As Good As New</td>\n",
       "      <td>/a/abba/as+good+as+new_20003033.html</td>\n",
       "      <td>I'll never know why I had to go  \\nWhy I had t...</td>\n",
       "    </tr>\n",
       "    <tr>\n",
       "      <th>3</th>\n",
       "      <td>ABBA</td>\n",
       "      <td>Bang</td>\n",
       "      <td>/a/abba/bang_20598415.html</td>\n",
       "      <td>Making somebody happy is a question of give an...</td>\n",
       "    </tr>\n",
       "    <tr>\n",
       "      <th>4</th>\n",
       "      <td>ABBA</td>\n",
       "      <td>Bang-A-Boomerang</td>\n",
       "      <td>/a/abba/bang+a+boomerang_20002668.html</td>\n",
       "      <td>Making somebody happy is a question of give an...</td>\n",
       "    </tr>\n",
       "  </tbody>\n",
       "</table>\n",
       "</div>"
      ],
      "text/plain": [
       "  artist                   song                                        link  \\\n",
       "0   ABBA  Ahe's My Kind Of Girl  /a/abba/ahes+my+kind+of+girl_20598417.html   \n",
       "1   ABBA       Andante, Andante       /a/abba/andante+andante_20002708.html   \n",
       "2   ABBA         As Good As New        /a/abba/as+good+as+new_20003033.html   \n",
       "3   ABBA                   Bang                  /a/abba/bang_20598415.html   \n",
       "4   ABBA       Bang-A-Boomerang      /a/abba/bang+a+boomerang_20002668.html   \n",
       "\n",
       "                                                text  \n",
       "0  Look at her face, it's a wonderful face  \\nAnd...  \n",
       "1  Take it easy with me, please  \\nTouch me gentl...  \n",
       "2  I'll never know why I had to go  \\nWhy I had t...  \n",
       "3  Making somebody happy is a question of give an...  \n",
       "4  Making somebody happy is a question of give an...  "
      ]
     },
     "execution_count": 5,
     "metadata": {},
     "output_type": "execute_result"
    }
   ],
   "source": [
    "songs.head()"
   ]
  },
  {
   "cell_type": "markdown",
   "id": "4eb51ea1",
   "metadata": {
    "papermill": {
     "duration": 0.015457,
     "end_time": "2021-11-20T15:23:12.167789",
     "exception": false,
     "start_time": "2021-11-20T15:23:12.152332",
     "status": "completed"
    },
    "tags": []
   },
   "source": [
    "Because of the dataset being so big, we are going to resample only 5000 random songs."
   ]
  },
  {
   "cell_type": "code",
   "execution_count": 6,
   "id": "991c1077",
   "metadata": {
    "execution": {
     "iopub.execute_input": "2021-11-20T15:23:12.207591Z",
     "iopub.status.busy": "2021-11-20T15:23:12.206906Z",
     "iopub.status.idle": "2021-11-20T15:23:12.216929Z",
     "shell.execute_reply": "2021-11-20T15:23:12.217641Z",
     "shell.execute_reply.started": "2021-11-20T15:19:05.464220Z"
    },
    "papermill": {
     "duration": 0.03443,
     "end_time": "2021-11-20T15:23:12.217857",
     "exception": false,
     "start_time": "2021-11-20T15:23:12.183427",
     "status": "completed"
    },
    "tags": []
   },
   "outputs": [],
   "source": [
    "songs = songs.sample(n=5000).drop('link', axis=1).reset_index(drop=True)"
   ]
  },
  {
   "cell_type": "markdown",
   "id": "3f7d7f9c",
   "metadata": {
    "papermill": {
     "duration": 0.020325,
     "end_time": "2021-11-20T15:23:12.257669",
     "exception": false,
     "start_time": "2021-11-20T15:23:12.237344",
     "status": "completed"
    },
    "tags": []
   },
   "source": [
    "We can notice also the presence of `\\n` in the text, so we are going to remove it."
   ]
  },
  {
   "cell_type": "code",
   "execution_count": 7,
   "id": "68d8a33b",
   "metadata": {
    "execution": {
     "iopub.execute_input": "2021-11-20T15:23:12.300717Z",
     "iopub.status.busy": "2021-11-20T15:23:12.299777Z",
     "iopub.status.idle": "2021-11-20T15:23:12.304816Z",
     "shell.execute_reply": "2021-11-20T15:23:12.304265Z",
     "shell.execute_reply.started": "2021-11-20T15:19:05.481184Z"
    },
    "papermill": {
     "duration": 0.024759,
     "end_time": "2021-11-20T15:23:12.304951",
     "exception": false,
     "start_time": "2021-11-20T15:23:12.280192",
     "status": "completed"
    },
    "tags": []
   },
   "outputs": [],
   "source": [
    "count =1\n",
    "while count<1: \n",
    "    songs['text'] = songs['text'].str.replace(r'\\n', '')\n",
    "    count=count+1"
   ]
  },
  {
   "cell_type": "code",
   "execution_count": 8,
   "id": "b7d04b03",
   "metadata": {
    "execution": {
     "iopub.execute_input": "2021-11-20T15:23:12.342731Z",
     "iopub.status.busy": "2021-11-20T15:23:12.341804Z",
     "iopub.status.idle": "2021-11-20T15:23:12.344908Z",
     "shell.execute_reply": "2021-11-20T15:23:12.345320Z",
     "shell.execute_reply.started": "2021-11-20T15:19:05.488952Z"
    },
    "papermill": {
     "duration": 0.02265,
     "end_time": "2021-11-20T15:23:12.345481",
     "exception": false,
     "start_time": "2021-11-20T15:23:12.322831",
     "status": "completed"
    },
    "tags": []
   },
   "outputs": [],
   "source": [
    "tfidf = TfidfVectorizer(analyzer='word', stop_words='english')"
   ]
  },
  {
   "cell_type": "code",
   "execution_count": 9,
   "id": "2c83797c",
   "metadata": {
    "execution": {
     "iopub.execute_input": "2021-11-20T15:23:12.398670Z",
     "iopub.status.busy": "2021-11-20T15:23:12.393165Z",
     "iopub.status.idle": "2021-11-20T15:23:13.086204Z",
     "shell.execute_reply": "2021-11-20T15:23:13.085555Z",
     "shell.execute_reply.started": "2021-11-20T15:19:05.502547Z"
    },
    "papermill": {
     "duration": 0.72501,
     "end_time": "2021-11-20T15:23:13.086343",
     "exception": false,
     "start_time": "2021-11-20T15:23:12.361333",
     "status": "completed"
    },
    "tags": []
   },
   "outputs": [],
   "source": [
    "lyrics_matrix = tfidf.fit_transform(songs['text'])"
   ]
  },
  {
   "cell_type": "markdown",
   "id": "e6b034f7",
   "metadata": {
    "papermill": {
     "duration": 0.015174,
     "end_time": "2021-11-20T15:23:13.117108",
     "exception": false,
     "start_time": "2021-11-20T15:23:13.101934",
     "status": "completed"
    },
    "tags": []
   },
   "source": [
    "*How do we use this matrix for a recommendation?* \n",
    "\n",
    "We now need to calculate the similarity of one lyric to another. We are going to use **cosine similarity**.\n",
    "\n",
    "We want to calculate the cosine similarity of each item with every other item in the dataset. So we just pass the lyrics_matrix as argument."
   ]
  },
  {
   "cell_type": "code",
   "execution_count": 10,
   "id": "6a4ff55b",
   "metadata": {
    "execution": {
     "iopub.execute_input": "2021-11-20T15:23:13.153630Z",
     "iopub.status.busy": "2021-11-20T15:23:13.152752Z",
     "iopub.status.idle": "2021-11-20T15:23:14.371519Z",
     "shell.execute_reply": "2021-11-20T15:23:14.370845Z",
     "shell.execute_reply.started": "2021-11-20T15:19:06.625734Z"
    },
    "papermill": {
     "duration": 1.239035,
     "end_time": "2021-11-20T15:23:14.371660",
     "exception": false,
     "start_time": "2021-11-20T15:23:13.132625",
     "status": "completed"
    },
    "tags": []
   },
   "outputs": [],
   "source": [
    "cosine_similarities = cosine_similarity(lyrics_matrix) "
   ]
  },
  {
   "cell_type": "markdown",
   "id": "b162cdc8",
   "metadata": {
    "papermill": {
     "duration": 0.016022,
     "end_time": "2021-11-20T15:23:14.405202",
     "exception": false,
     "start_time": "2021-11-20T15:23:14.389180",
     "status": "completed"
    },
    "tags": []
   },
   "source": [
    "Once we get the similarities, we'll store in a dictionary the names of the 50  most similar songs for each song in our dataset."
   ]
  },
  {
   "cell_type": "code",
   "execution_count": 11,
   "id": "d9bb9df4",
   "metadata": {
    "execution": {
     "iopub.execute_input": "2021-11-20T15:23:14.441297Z",
     "iopub.status.busy": "2021-11-20T15:23:14.440665Z",
     "iopub.status.idle": "2021-11-20T15:23:14.443029Z",
     "shell.execute_reply": "2021-11-20T15:23:14.442565Z",
     "shell.execute_reply.started": "2021-11-20T15:19:07.932628Z"
    },
    "papermill": {
     "duration": 0.022431,
     "end_time": "2021-11-20T15:23:14.443195",
     "exception": false,
     "start_time": "2021-11-20T15:23:14.420764",
     "status": "completed"
    },
    "tags": []
   },
   "outputs": [],
   "source": [
    "similarities = {}"
   ]
  },
  {
   "cell_type": "code",
   "execution_count": 12,
   "id": "25f1ce2f",
   "metadata": {
    "execution": {
     "iopub.execute_input": "2021-11-20T15:23:14.480886Z",
     "iopub.status.busy": "2021-11-20T15:23:14.480319Z",
     "iopub.status.idle": "2021-11-20T15:23:19.104312Z",
     "shell.execute_reply": "2021-11-20T15:23:19.104824Z",
     "shell.execute_reply.started": "2021-11-20T15:19:07.938017Z"
    },
    "papermill": {
     "duration": 4.646125,
     "end_time": "2021-11-20T15:23:19.104996",
     "exception": false,
     "start_time": "2021-11-20T15:23:14.458871",
     "status": "completed"
    },
    "tags": []
   },
   "outputs": [],
   "source": [
    "for i in range(len(cosine_similarities)):\n",
    "    # Now we'll sort each element in cosine_similarities and get the indexes of the songs. \n",
    "    similar_indices = cosine_similarities[i].argsort()[:-50:-1] \n",
    "    # After that, we'll store in similarities each name of the 50 most similar songs.\n",
    "    # Except the first one that is the same song.\n",
    "    similarities[songs['song'].iloc[i]] = [(cosine_similarities[i][x], songs['song'][x], songs['artist'][x]) for x in similar_indices][1:]"
   ]
  },
  {
   "cell_type": "markdown",
   "id": "46aa7ab2",
   "metadata": {
    "papermill": {
     "duration": 0.015247,
     "end_time": "2021-11-20T15:23:19.136539",
     "exception": false,
     "start_time": "2021-11-20T15:23:19.121292",
     "status": "completed"
    },
    "tags": []
   },
   "source": [
    "After that, all the magic happens. We can use that similarity scores to access the most similar items and give a recommendation.\n",
    "\n",
    "For that, we'll define our Content based recommender class."
   ]
  },
  {
   "cell_type": "code",
   "execution_count": 13,
   "id": "828be2a9",
   "metadata": {
    "execution": {
     "iopub.execute_input": "2021-11-20T15:23:19.174637Z",
     "iopub.status.busy": "2021-11-20T15:23:19.173991Z",
     "iopub.status.idle": "2021-11-20T15:23:19.176764Z",
     "shell.execute_reply": "2021-11-20T15:23:19.176314Z",
     "shell.execute_reply.started": "2021-11-20T15:19:13.998105Z"
    },
    "papermill": {
     "duration": 0.024867,
     "end_time": "2021-11-20T15:23:19.176894",
     "exception": false,
     "start_time": "2021-11-20T15:23:19.152027",
     "status": "completed"
    },
    "tags": []
   },
   "outputs": [],
   "source": [
    "class ContentBasedRecommender:\n",
    "    def __init__(self, matrix):\n",
    "        self.matrix_similar = matrix\n",
    "\n",
    "    def _print_message(self, song, recom_song):\n",
    "        rec_items = len(recom_song)\n",
    "        \n",
    "        print(f'The {rec_items} recommended songs for {song} are:')\n",
    "        for i in range(rec_items):\n",
    "            print(f\"Number {i+1}:\")\n",
    "            print(f\"{recom_song[i][1]} by {recom_song[i][2]} with {round(recom_song[i][0], 3)} similarity score\") \n",
    "            print(\"--------------------\")\n",
    "        \n",
    "    def recommend(self, recommendation):\n",
    "        # Get song to find recommendations for\n",
    "        song = recommendation['song']\n",
    "        # Get number of songs to recommend\n",
    "        number_songs = recommendation['number_songs']\n",
    "        # Get the number of songs most similars from matrix similarities\n",
    "        recom_song = self.matrix_similar[song][:number_songs]\n",
    "        # print each item\n",
    "        self._print_message(song=song, recom_song=recom_song)"
   ]
  },
  {
   "cell_type": "markdown",
   "id": "6c4cb33f",
   "metadata": {
    "papermill": {
     "duration": 0.015331,
     "end_time": "2021-11-20T15:23:19.207708",
     "exception": false,
     "start_time": "2021-11-20T15:23:19.192377",
     "status": "completed"
    },
    "tags": []
   },
   "source": [
    "Now, instantiate class"
   ]
  },
  {
   "cell_type": "code",
   "execution_count": 14,
   "id": "891731d4",
   "metadata": {
    "execution": {
     "iopub.execute_input": "2021-11-20T15:23:19.243215Z",
     "iopub.status.busy": "2021-11-20T15:23:19.242595Z",
     "iopub.status.idle": "2021-11-20T15:23:19.245158Z",
     "shell.execute_reply": "2021-11-20T15:23:19.244662Z",
     "shell.execute_reply.started": "2021-11-20T15:19:14.009144Z"
    },
    "papermill": {
     "duration": 0.022157,
     "end_time": "2021-11-20T15:23:19.245307",
     "exception": false,
     "start_time": "2021-11-20T15:23:19.223150",
     "status": "completed"
    },
    "tags": []
   },
   "outputs": [],
   "source": [
    "recommedations = ContentBasedRecommender(similarities)"
   ]
  },
  {
   "cell_type": "markdown",
   "id": "8f0c6b39",
   "metadata": {
    "papermill": {
     "duration": 0.015178,
     "end_time": "2021-11-20T15:23:19.276099",
     "exception": false,
     "start_time": "2021-11-20T15:23:19.260921",
     "status": "completed"
    },
    "tags": []
   },
   "source": [
    "Then, we are ready to pick a song from the dataset and make a recommendation."
   ]
  },
  {
   "cell_type": "code",
   "execution_count": 15,
   "id": "f06b980d",
   "metadata": {
    "execution": {
     "iopub.execute_input": "2021-11-20T15:23:19.311149Z",
     "iopub.status.busy": "2021-11-20T15:23:19.310213Z",
     "iopub.status.idle": "2021-11-20T15:23:19.314053Z",
     "shell.execute_reply": "2021-11-20T15:23:19.314506Z",
     "shell.execute_reply.started": "2021-11-20T15:19:14.065022Z"
    },
    "papermill": {
     "duration": 0.022884,
     "end_time": "2021-11-20T15:23:19.314668",
     "exception": false,
     "start_time": "2021-11-20T15:23:19.291784",
     "status": "completed"
    },
    "tags": []
   },
   "outputs": [],
   "source": [
    "recommendation = {\n",
    "    \"song\": songs['song'].iloc[10],\n",
    "    \"number_songs\": 4 \n",
    "}"
   ]
  },
  {
   "cell_type": "code",
   "execution_count": 16,
   "id": "2f6a20ae",
   "metadata": {
    "execution": {
     "iopub.execute_input": "2021-11-20T15:23:19.349929Z",
     "iopub.status.busy": "2021-11-20T15:23:19.348979Z",
     "iopub.status.idle": "2021-11-20T15:23:19.357234Z",
     "shell.execute_reply": "2021-11-20T15:23:19.356359Z",
     "shell.execute_reply.started": "2021-11-20T15:19:14.075715Z"
    },
    "papermill": {
     "duration": 0.02689,
     "end_time": "2021-11-20T15:23:19.357418",
     "exception": false,
     "start_time": "2021-11-20T15:23:19.330528",
     "status": "completed"
    },
    "tags": []
   },
   "outputs": [
    {
     "name": "stdout",
     "output_type": "stream",
     "text": [
      "The 4 recommended songs for You Took Him Off My Hands are:\n",
      "Number 1:\n",
      "Took My Love by Pitbull with 0.324 similarity score\n",
      "--------------------\n",
      "Number 2:\n",
      "Out Of My Hands by Jason Mraz with 0.298 similarity score\n",
      "--------------------\n",
      "Number 3:\n",
      "Don't Leave Me Now by Supertramp with 0.232 similarity score\n",
      "--------------------\n",
      "Number 4:\n",
      "All Of Me by Diana Ross with 0.225 similarity score\n",
      "--------------------\n"
     ]
    }
   ],
   "source": [
    "recommedations.recommend(recommendation)"
   ]
  },
  {
   "cell_type": "markdown",
   "id": "2bb301be",
   "metadata": {
    "papermill": {
     "duration": 0.015569,
     "end_time": "2021-11-20T15:23:19.389661",
     "exception": false,
     "start_time": "2021-11-20T15:23:19.374092",
     "status": "completed"
    },
    "tags": []
   },
   "source": [
    "And we can pick another random song and recommend again:"
   ]
  },
  {
   "cell_type": "code",
   "execution_count": 17,
   "id": "9fb34931",
   "metadata": {
    "execution": {
     "iopub.execute_input": "2021-11-20T15:23:19.426102Z",
     "iopub.status.busy": "2021-11-20T15:23:19.425176Z",
     "iopub.status.idle": "2021-11-20T15:23:19.427889Z",
     "shell.execute_reply": "2021-11-20T15:23:19.427337Z",
     "shell.execute_reply.started": "2021-11-20T15:19:14.090967Z"
    },
    "papermill": {
     "duration": 0.022527,
     "end_time": "2021-11-20T15:23:19.428032",
     "exception": false,
     "start_time": "2021-11-20T15:23:19.405505",
     "status": "completed"
    },
    "tags": []
   },
   "outputs": [],
   "source": [
    "recommendation2 = {\n",
    "    \"song\": songs['song'].iloc[120],\n",
    "    \"number_songs\": 4 \n",
    "}"
   ]
  },
  {
   "cell_type": "code",
   "execution_count": 18,
   "id": "2e646b27",
   "metadata": {
    "execution": {
     "iopub.execute_input": "2021-11-20T15:23:19.464237Z",
     "iopub.status.busy": "2021-11-20T15:23:19.463444Z",
     "iopub.status.idle": "2021-11-20T15:23:19.468427Z",
     "shell.execute_reply": "2021-11-20T15:23:19.467470Z",
     "shell.execute_reply.started": "2021-11-20T15:19:14.099119Z"
    },
    "papermill": {
     "duration": 0.024728,
     "end_time": "2021-11-20T15:23:19.468644",
     "exception": false,
     "start_time": "2021-11-20T15:23:19.443916",
     "status": "completed"
    },
    "tags": []
   },
   "outputs": [
    {
     "name": "stdout",
     "output_type": "stream",
     "text": [
      "The 4 recommended songs for That Old Feeling are:\n",
      "Number 1:\n",
      "Give Me Back That Old Familiar Feeling by Glen Campbell with 0.309 similarity score\n",
      "--------------------\n",
      "Number 2:\n",
      "Back When The Old Homeplace Was New by Tom T. Hall with 0.292 similarity score\n",
      "--------------------\n",
      "Number 3:\n",
      "Manhattan Moon by Kirsty Maccoll with 0.269 similarity score\n",
      "--------------------\n",
      "Number 4:\n",
      "Old Flame by Alabama with 0.264 similarity score\n",
      "--------------------\n"
     ]
    }
   ],
   "source": [
    "recommedations.recommend(recommendation2)"
   ]
  }
 ],
 "metadata": {
  "kernelspec": {
   "display_name": "Python 3",
   "language": "python",
   "name": "python3"
  },
  "language_info": {
   "codemirror_mode": {
    "name": "ipython",
    "version": 3
   },
   "file_extension": ".py",
   "mimetype": "text/x-python",
   "name": "python",
   "nbconvert_exporter": "python",
   "pygments_lexer": "ipython3",
   "version": "3.7.10"
  },
  "papermill": {
   "default_parameters": {},
   "duration": 18.568935,
   "end_time": "2021-11-20T15:23:20.197613",
   "environment_variables": {},
   "exception": null,
   "input_path": "__notebook__.ipynb",
   "output_path": "__notebook__.ipynb",
   "parameters": {},
   "start_time": "2021-11-20T15:23:01.628678",
   "version": "2.3.3"
  }
 },
 "nbformat": 4,
 "nbformat_minor": 5
}
